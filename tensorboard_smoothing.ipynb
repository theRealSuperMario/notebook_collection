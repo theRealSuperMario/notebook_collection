{
 "cells": [
  {
   "cell_type": "code",
   "execution_count": null,
   "metadata": {},
   "outputs": [],
   "source": [
    "import numpy as np\n",
    "from ipywidgets import widgets, interact"
   ]
  },
  {
   "cell_type": "markdown",
   "metadata": {},
   "source": [
    "## Reimplementing Tensorboard Smoothing\n",
    "\n",
    "* https://stackoverflow.com/questions/42281844/what-is-the-mathematics-behind-the-smoothing-parameter-in-tensorboards-scalar\n",
    "\n",
    "* https://stackoverflow.com/questions/42869495/numpy-version-of-exponential-weighted-moving-average-equivalent-to-pandas-ewm\n"
   ]
  },
  {
   "cell_type": "code",
   "execution_count": null,
   "metadata": {},
   "outputs": [],
   "source": [
    "import numpy as np\n",
    "from ipywidgets import widgets, interact\n",
    "import matplotlib.pyplot as plt"
   ]
  },
  {
   "cell_type": "code",
   "execution_count": null,
   "metadata": {},
   "outputs": [],
   "source": [
    "def smooth(scalars, weight):  # Weight between 0 and 1\n",
    "    if weight <= 0.0: # no smoothing\n",
    "        return scalars\n",
    "    last = scalars[0]  # First value in the plot (first timestep)\n",
    "    smoothed = list()\n",
    "    for point in scalars:\n",
    "        smoothed_val = last * weight + (1 - weight) * point  # Calculate smoothed value\n",
    "        smoothed.append(smoothed_val)                        # Save it\n",
    "        last = smoothed_val                                  # Anchor the last smoothed value\n",
    "\n",
    "    return smoothed\n",
    "\n",
    "def ewma(x, alpha):\n",
    "    '''\n",
    "    copied from https://stackoverflow.com/questions/42869495/numpy-version-of-exponential-weighted-moving-average-equivalent-to-pandas-ewm\n",
    "    Returns the exponentially weighted moving average of x.\n",
    "\n",
    "    Parameters:\n",
    "    -----------\n",
    "    x : array-like\n",
    "    alpha : float {0 <= alpha <= 1}\n",
    "\n",
    "    Returns:\n",
    "    --------\n",
    "    ewma: numpy array\n",
    "          the exponentially weighted moving average\n",
    "    '''\n",
    "    # Coerce x to an array\n",
    "    if alpha <= 0.0:\n",
    "        return x\n",
    "    x = np.array(x)\n",
    "    n = x.size\n",
    "\n",
    "    # Create an initial weight matrix of (1-alpha), and a matrix of powers\n",
    "    # to raise the weights by\n",
    "    w0 = np.ones(shape=(n,n)) * (alpha)\n",
    "    p = np.vstack([np.arange(i,i-n,-1) for i in range(n)])\n",
    "\n",
    "    # Create the weight matrix\n",
    "    w = np.tril(w0**p,0)\n",
    "\n",
    "    # Calculate the ewma\n",
    "    return np.dot(w, x[::np.newaxis]) / w.sum(axis=1)\n",
    "\n",
    "\n",
    "implementations = {\n",
    "    \"tensorboard\" : smooth,\n",
    "    \"ewma\" : ewma\n",
    "}"
   ]
  },
  {
   "cell_type": "code",
   "execution_count": null,
   "metadata": {},
   "outputs": [],
   "source": [
    "def change_fontsize(ax, fs):\n",
    "    for item in ([ax.title, ax.xaxis.label, ax.yaxis.label] +\n",
    "                 ax.get_xticklabels() + ax.get_yticklabels()):\n",
    "        item.set_fontsize(fs)\n",
    "    return ax\n",
    "    \n",
    "def change_linewidth(ax, lw=3):\n",
    "    for item in ax.lines:\n",
    "        item.set_linewidth(lw)\n",
    "    return ax\n",
    "\n",
    "def change_legend_linewidth(ax, lw=2.0):\n",
    "    leg = ax.legend_\n",
    "    for legobj in leg.legendHandles:\n",
    "        legobj.set_linewidth(lw)"
   ]
  },
  {
   "cell_type": "code",
   "execution_count": null,
   "metadata": {},
   "outputs": [],
   "source": [
    "x = np.linspace(0, 1, 20)\n",
    "y = x.copy()\n",
    "y += np.random.randn(*y.shape) / 10\n",
    "def _plot(alpha):\n",
    "    plt.close()\n",
    "    fig, ax = plt.subplots(1, 1, figsize=(8,8))\n",
    "    for label, func in implementations.items():\n",
    "        y_smooth = func(y, alpha)\n",
    "        plt.plot(x, y_smooth, label=label)\n",
    "    ax.set_xlim([0, 1])\n",
    "    ax.set_ylim([0, 1])\n",
    "    ax.set_xlabel(\"x\")\n",
    "    ax.set_ylabel(\"y\")\n",
    "    ax.grid(True)\n",
    "    fig.tight_layout()\n",
    "    ax.legend(frameon=True, fontsize=24, loc=\"upper left\")\n",
    "    change_fontsize(ax, 16)\n",
    "    change_linewidth(ax, 3)#\n",
    "    change_legend_linewidth(ax, 3)\n",
    "alpha = widgets.FloatSlider(value=0.0, min=0.00, max=1, step=0.1)\n",
    "interact(_plot, alpha=alpha)"
   ]
  }
 ],
 "metadata": {
  "kernelspec": {
   "display_name": "Python [conda env:bv]",
   "language": "python",
   "name": "conda-env-bv-py"
  },
  "language_info": {
   "codemirror_mode": {
    "name": "ipython",
    "version": 3
   },
   "file_extension": ".py",
   "mimetype": "text/x-python",
   "name": "python",
   "nbconvert_exporter": "python",
   "pygments_lexer": "ipython3",
   "version": "3.6.5"
  }
 },
 "nbformat": 4,
 "nbformat_minor": 2
}
